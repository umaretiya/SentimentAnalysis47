{
 "cells": [
  {
   "cell_type": "code",
   "execution_count": 3,
   "id": "cdec2efa",
   "metadata": {},
   "outputs": [],
   "source": [
    "import importlib\n",
    "import yaml\n",
    "from sklearn.datasets import fetch_california_housing"
   ]
  },
  {
   "cell_type": "code",
   "execution_count": null,
   "id": "9abfca6c",
   "metadata": {},
   "outputs": [],
   "source": [
    "data = {\"module\":''}"
   ]
  },
  {
   "cell_type": "code",
   "execution_count": 58,
   "id": "4c682eba",
   "metadata": {},
   "outputs": [],
   "source": [
    "with open(\"module.yaml\") as yaml_file:\n",
    "    content = yaml.safe_load(yaml_file)"
   ]
  },
  {
   "cell_type": "code",
   "execution_count": 59,
   "id": "f96b642c",
   "metadata": {},
   "outputs": [
    {
     "data": {
      "text/plain": [
       "'fetch_california_housing'"
      ]
     },
     "execution_count": 59,
     "metadata": {},
     "output_type": "execute_result"
    }
   ],
   "source": [
    "content['housing']['package']"
   ]
  },
  {
   "cell_type": "code",
   "execution_count": 60,
   "id": "f544adb9",
   "metadata": {},
   "outputs": [],
   "source": [
    "module = content['housing']['module']"
   ]
  },
  {
   "cell_type": "code",
   "execution_count": 61,
   "id": "30497db8",
   "metadata": {},
   "outputs": [],
   "source": [
    "module = importlib.import_module(content['housing']['module'])\n"
   ]
  },
  {
   "cell_type": "code",
   "execution_count": 62,
   "id": "e4ddb632",
   "metadata": {},
   "outputs": [],
   "source": [
    "housing = getattr(module, content['housing']['package'])"
   ]
  },
  {
   "cell_type": "code",
   "execution_count": 63,
   "id": "11fc6de2",
   "metadata": {},
   "outputs": [
    {
     "data": {
      "text/plain": [
       "(20640, 8)"
      ]
     },
     "execution_count": 63,
     "metadata": {},
     "output_type": "execute_result"
    }
   ],
   "source": [
    "housing().data\n",
    "housing().target\n",
    "housing().data.shape"
   ]
  },
  {
   "cell_type": "code",
   "execution_count": null,
   "id": "85e7fbb4",
   "metadata": {},
   "outputs": [],
   "source": []
  }
 ],
 "metadata": {
  "kernelspec": {
   "display_name": "DL",
   "language": "python",
   "name": "dl"
  },
  "language_info": {
   "codemirror_mode": {
    "name": "ipython",
    "version": 3
   },
   "file_extension": ".py",
   "mimetype": "text/x-python",
   "name": "python",
   "nbconvert_exporter": "python",
   "pygments_lexer": "ipython3",
   "version": "3.9.12"
  }
 },
 "nbformat": 4,
 "nbformat_minor": 5
}
